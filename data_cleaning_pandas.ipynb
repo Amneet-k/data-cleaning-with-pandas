{
 "cells": [
  {
   "cell_type": "code",
   "execution_count": 7,
   "id": "e868ef01-2e3d-44a2-8e2f-dc8a19d867e4",
   "metadata": {},
   "outputs": [],
   "source": [
    "#Pandas is the most popular Python library for data analysis and manipulation. \n",
    "\n",
    "import pandas as pd\n",
    "import numpy as np\n",
    "import matplotlib.pyplot as plt"
   ]
  },
  {
   "cell_type": "code",
   "execution_count": 8,
   "id": "08bd4d9a-b5b2-4d40-a365-d0984a5eb605",
   "metadata": {},
   "outputs": [],
   "source": [
    "#Series is alike numpy array but have index labels\n",
    "#Dataframe is like an Excel table or Sql table"
   ]
  },
  {
   "cell_type": "code",
   "execution_count": 9,
   "id": "17a57e7a-6129-4c56-a51d-9b6576f78c59",
   "metadata": {},
   "outputs": [],
   "source": [
    "#load the dataset\n",
    "df=pd.read_csv(\"messy_data.csv\")"
   ]
  },
  {
   "cell_type": "code",
   "execution_count": 10,
   "id": "c16b83e8-6854-41be-b1c3-f260e7840e68",
   "metadata": {},
   "outputs": [
    {
     "data": {
      "text/html": [
       "<div>\n",
       "<style scoped>\n",
       "    .dataframe tbody tr th:only-of-type {\n",
       "        vertical-align: middle;\n",
       "    }\n",
       "\n",
       "    .dataframe tbody tr th {\n",
       "        vertical-align: top;\n",
       "    }\n",
       "\n",
       "    .dataframe thead th {\n",
       "        text-align: right;\n",
       "    }\n",
       "</style>\n",
       "<table border=\"1\" class=\"dataframe\">\n",
       "  <thead>\n",
       "    <tr style=\"text-align: right;\">\n",
       "      <th></th>\n",
       "      <th>Student Name</th>\n",
       "      <th>Age</th>\n",
       "      <th>Course</th>\n",
       "      <th>Course Fee</th>\n",
       "    </tr>\n",
       "  </thead>\n",
       "  <tbody>\n",
       "    <tr>\n",
       "      <th>0</th>\n",
       "      <td>John Doe</td>\n",
       "      <td>20.0</td>\n",
       "      <td>Computer Science</td>\n",
       "      <td>50000</td>\n",
       "    </tr>\n",
       "    <tr>\n",
       "      <th>1</th>\n",
       "      <td>Jane Smith</td>\n",
       "      <td>22.0</td>\n",
       "      <td>Data Science</td>\n",
       "      <td>60000</td>\n",
       "    </tr>\n",
       "    <tr>\n",
       "      <th>2</th>\n",
       "      <td>Alice</td>\n",
       "      <td>NaN</td>\n",
       "      <td>Artificial Intelligence</td>\n",
       "      <td>65000</td>\n",
       "    </tr>\n",
       "    <tr>\n",
       "      <th>3</th>\n",
       "      <td>Bob Brown</td>\n",
       "      <td>23.0</td>\n",
       "      <td>Cyber Security</td>\n",
       "      <td>Five Fifty</td>\n",
       "    </tr>\n",
       "  </tbody>\n",
       "</table>\n",
       "</div>"
      ],
      "text/plain": [
       "  Student Name   Age                   Course  Course Fee\n",
       "0     John Doe  20.0         Computer Science       50000\n",
       "1   Jane Smith  22.0             Data Science       60000\n",
       "2        Alice   NaN  Artificial Intelligence       65000\n",
       "3    Bob Brown  23.0           Cyber Security  Five Fifty"
      ]
     },
     "execution_count": 10,
     "metadata": {},
     "output_type": "execute_result"
    }
   ],
   "source": [
    "# read first 4  lines\n",
    "df.head(4)"
   ]
  },
  {
   "cell_type": "code",
   "execution_count": 11,
   "id": "346bb07b-c155-479b-ad13-7f8eae21622f",
   "metadata": {},
   "outputs": [
    {
     "name": "stdout",
     "output_type": "stream",
     "text": [
      "<class 'pandas.core.frame.DataFrame'>\n",
      "RangeIndex: 19 entries, 0 to 18\n",
      "Data columns (total 4 columns):\n",
      " #   Column        Non-Null Count  Dtype  \n",
      "---  ------        --------------  -----  \n",
      " 0   Student Name  19 non-null     object \n",
      " 1   Age           18 non-null     float64\n",
      " 2   Course        19 non-null     object \n",
      " 3   Course Fee    18 non-null     object \n",
      "dtypes: float64(1), object(3)\n",
      "memory usage: 740.0+ bytes\n"
     ]
    }
   ],
   "source": [
    "df.info()"
   ]
  },
  {
   "cell_type": "code",
   "execution_count": 12,
   "id": "57594b1b-ef2a-4cd1-af85-9b7a67a858da",
   "metadata": {},
   "outputs": [
    {
     "data": {
      "text/plain": [
       "Student Name    0\n",
       "Age             1\n",
       "Course          0\n",
       "Course Fee      1\n",
       "dtype: int64"
      ]
     },
     "execution_count": 12,
     "metadata": {},
     "output_type": "execute_result"
    }
   ],
   "source": [
    "# total sum count of null values in each column\n",
    "df.isnull().sum()"
   ]
  },
  {
   "cell_type": "code",
   "execution_count": 13,
   "id": "a0a9bd75-f44d-487c-a9bc-3537f9ce75ec",
   "metadata": {},
   "outputs": [],
   "source": [
    "#removed duplicates\n",
    "df.drop_duplicates(inplace=True) #inplace.True Modifies the DataFrame in place (changes the original data). "
   ]
  },
  {
   "cell_type": "code",
   "execution_count": 14,
   "id": "7d15022d-7892-4abd-869a-269b525fcb7d",
   "metadata": {},
   "outputs": [],
   "source": [
    "#handling large values\n",
    "df[\"Age\"] = df[\"Age\"].apply( lambda x: x if 10 <= x <= 30  else np.nan)\n"
   ]
  },
  {
   "cell_type": "code",
   "execution_count": 15,
   "id": "6b42bcc7-2032-4f5d-953b-7e277bde5821",
   "metadata": {},
   "outputs": [
    {
     "data": {
      "text/plain": [
       "0     20.0\n",
       "1     22.0\n",
       "2      NaN\n",
       "3     23.0\n",
       "4      NaN\n",
       "5     24.0\n",
       "6     22.0\n",
       "7     21.0\n",
       "8     23.0\n",
       "10     NaN\n",
       "11    25.0\n",
       "12    20.0\n",
       "13    23.0\n",
       "14    21.0\n",
       "15    22.0\n",
       "16    24.0\n",
       "17    19.0\n",
       "18    20.0\n",
       "Name: Age, dtype: float64"
      ]
     },
     "execution_count": 15,
     "metadata": {},
     "output_type": "execute_result"
    }
   ],
   "source": [
    "#access age column\n",
    "df[\"Age\"]"
   ]
  },
  {
   "cell_type": "code",
   "execution_count": 16,
   "id": "2151d9a5-9859-453c-80e4-75f278a347ee",
   "metadata": {},
   "outputs": [
    {
     "data": {
      "text/html": [
       "<div>\n",
       "<style scoped>\n",
       "    .dataframe tbody tr th:only-of-type {\n",
       "        vertical-align: middle;\n",
       "    }\n",
       "\n",
       "    .dataframe tbody tr th {\n",
       "        vertical-align: top;\n",
       "    }\n",
       "\n",
       "    .dataframe thead th {\n",
       "        text-align: right;\n",
       "    }\n",
       "</style>\n",
       "<table border=\"1\" class=\"dataframe\">\n",
       "  <thead>\n",
       "    <tr style=\"text-align: right;\">\n",
       "      <th></th>\n",
       "      <th>Student Name</th>\n",
       "      <th>Age</th>\n",
       "      <th>Course</th>\n",
       "      <th>Course Fee</th>\n",
       "    </tr>\n",
       "  </thead>\n",
       "  <tbody>\n",
       "    <tr>\n",
       "      <th>17</th>\n",
       "      <td>Sophia Clark</td>\n",
       "      <td>19.0</td>\n",
       "      <td>Cloud Computing</td>\n",
       "      <td>58000</td>\n",
       "    </tr>\n",
       "  </tbody>\n",
       "</table>\n",
       "</div>"
      ],
      "text/plain": [
       "    Student Name   Age           Course Course Fee\n",
       "17  Sophia Clark  19.0  Cloud Computing      58000"
      ]
     },
     "execution_count": 16,
     "metadata": {},
     "output_type": "execute_result"
    }
   ],
   "source": [
    "#apply filtering on age column\n",
    "df[df[\"Age\"]<20]"
   ]
  },
  {
   "cell_type": "code",
   "execution_count": 17,
   "id": "a52a2edf-0ec2-455e-afa3-65c20e987f95",
   "metadata": {},
   "outputs": [],
   "source": [
    "#handling missing values\n",
    "df.fillna({\"Age\":df[\"Age\"].mean()}, inplace=True)\n",
    "df[\"Age\"] = df[\"Age\"].astype(int)\n"
   ]
  },
  {
   "cell_type": "code",
   "execution_count": 18,
   "id": "3c8c850c-d320-4618-9589-bb3c81428b4e",
   "metadata": {},
   "outputs": [
    {
     "data": {
      "text/plain": [
       "0     20\n",
       "1     22\n",
       "2     21\n",
       "3     23\n",
       "4     21\n",
       "5     24\n",
       "6     22\n",
       "7     21\n",
       "8     23\n",
       "10    21\n",
       "11    25\n",
       "12    20\n",
       "13    23\n",
       "14    21\n",
       "15    22\n",
       "16    24\n",
       "17    19\n",
       "18    20\n",
       "Name: Age, dtype: int64"
      ]
     },
     "execution_count": 18,
     "metadata": {},
     "output_type": "execute_result"
    }
   ],
   "source": [
    "df[\"Age\"]"
   ]
  },
  {
   "cell_type": "code",
   "execution_count": 19,
   "id": "21c3f5c7-aa27-4839-9b74-a9646872ec1e",
   "metadata": {},
   "outputs": [
    {
     "data": {
      "text/plain": [
       "0     50000\n",
       "1     60000\n",
       "2     65000\n",
       "3       NaN\n",
       "4     52000\n",
       "5     70000\n",
       "6     58000\n",
       "7     62000\n",
       "8     48000\n",
       "10    73000\n",
       "11    55000\n",
       "12      NaN\n",
       "13    50000\n",
       "14    65000\n",
       "15    60000\n",
       "16      NaN\n",
       "17    58000\n",
       "18      NaN\n",
       "Name: Course Fee, dtype: object"
      ]
     },
     "execution_count": 19,
     "metadata": {},
     "output_type": "execute_result"
    }
   ],
   "source": [
    "#handling of wrong format values\n",
    "non_numeric_values = [\"?\", \"Forty-Eight\",\"Five Fifty\"]\n",
    "df.replace(non_numeric_values,np.nan, inplace=True)\n",
    "df[\"Course Fee\"]"
   ]
  },
  {
   "cell_type": "code",
   "execution_count": 20,
   "id": "0a2a3e73-bae2-4681-87c8-caaeb5aeb829",
   "metadata": {},
   "outputs": [],
   "source": [
    "df[\"Course Fee\"] = pd.to_numeric(df[\"Course Fee\"], errors=\"coerce\")\n",
    "df.fillna({\"Course Fee\": df[\"Course Fee\"].mean()}, inplace=True)\n",
    "df[\"Course Fee\"] = df[\"Course Fee\"].astype(int)\n",
    "\n",
    "\n",
    "#If \"Course Fee\" contains strings like \"Five Fifty\", \"?\", \"N/A\", or \"Unknown\", df[\"Course Fee\"].mean() fails because mean can only be calculated on numbers. pd.to_numeric(df[\"Course Fee\"], errors=\"coerce\") fixes this by converting invalid values to NaN, allowing the mean calculation to work."
   ]
  },
  {
   "cell_type": "code",
   "execution_count": 21,
   "id": "f224a853-7c0f-416d-9207-f52f5939c84f",
   "metadata": {},
   "outputs": [
    {
     "data": {
      "text/html": [
       "<div>\n",
       "<style scoped>\n",
       "    .dataframe tbody tr th:only-of-type {\n",
       "        vertical-align: middle;\n",
       "    }\n",
       "\n",
       "    .dataframe tbody tr th {\n",
       "        vertical-align: top;\n",
       "    }\n",
       "\n",
       "    .dataframe thead th {\n",
       "        text-align: right;\n",
       "    }\n",
       "</style>\n",
       "<table border=\"1\" class=\"dataframe\">\n",
       "  <thead>\n",
       "    <tr style=\"text-align: right;\">\n",
       "      <th></th>\n",
       "      <th>Student Name</th>\n",
       "      <th>Age</th>\n",
       "      <th>Course</th>\n",
       "      <th>Course Fee</th>\n",
       "    </tr>\n",
       "  </thead>\n",
       "  <tbody>\n",
       "    <tr>\n",
       "      <th>0</th>\n",
       "      <td>John Doe</td>\n",
       "      <td>20</td>\n",
       "      <td>Computer Science</td>\n",
       "      <td>50000</td>\n",
       "    </tr>\n",
       "    <tr>\n",
       "      <th>1</th>\n",
       "      <td>Jane Smith</td>\n",
       "      <td>22</td>\n",
       "      <td>Data Science</td>\n",
       "      <td>60000</td>\n",
       "    </tr>\n",
       "    <tr>\n",
       "      <th>2</th>\n",
       "      <td>Alice</td>\n",
       "      <td>21</td>\n",
       "      <td>Artificial Intelligence</td>\n",
       "      <td>65000</td>\n",
       "    </tr>\n",
       "    <tr>\n",
       "      <th>3</th>\n",
       "      <td>Bob Brown</td>\n",
       "      <td>23</td>\n",
       "      <td>Cyber Security</td>\n",
       "      <td>59000</td>\n",
       "    </tr>\n",
       "    <tr>\n",
       "      <th>4</th>\n",
       "      <td>Charlie White</td>\n",
       "      <td>21</td>\n",
       "      <td>Software Engineering</td>\n",
       "      <td>52000</td>\n",
       "    </tr>\n",
       "    <tr>\n",
       "      <th>5</th>\n",
       "      <td>David Black</td>\n",
       "      <td>24</td>\n",
       "      <td>Machine Learning</td>\n",
       "      <td>70000</td>\n",
       "    </tr>\n",
       "    <tr>\n",
       "      <th>6</th>\n",
       "      <td>Emma Wilson</td>\n",
       "      <td>22</td>\n",
       "      <td>Cloud Computing</td>\n",
       "      <td>58000</td>\n",
       "    </tr>\n",
       "    <tr>\n",
       "      <th>7</th>\n",
       "      <td>Frank Thomas</td>\n",
       "      <td>21</td>\n",
       "      <td>Blockchain Technology</td>\n",
       "      <td>62000</td>\n",
       "    </tr>\n",
       "    <tr>\n",
       "      <th>8</th>\n",
       "      <td>Grace Adams</td>\n",
       "      <td>23</td>\n",
       "      <td>Web Development</td>\n",
       "      <td>48000</td>\n",
       "    </tr>\n",
       "    <tr>\n",
       "      <th>10</th>\n",
       "      <td>Henry Miller</td>\n",
       "      <td>21</td>\n",
       "      <td>Big Data Analytics</td>\n",
       "      <td>73000</td>\n",
       "    </tr>\n",
       "    <tr>\n",
       "      <th>11</th>\n",
       "      <td>Michael Lee</td>\n",
       "      <td>25</td>\n",
       "      <td>Cyber Security</td>\n",
       "      <td>55000</td>\n",
       "    </tr>\n",
       "    <tr>\n",
       "      <th>12</th>\n",
       "      <td>Sarah Green</td>\n",
       "      <td>20</td>\n",
       "      <td>Machine Learning</td>\n",
       "      <td>59000</td>\n",
       "    </tr>\n",
       "    <tr>\n",
       "      <th>13</th>\n",
       "      <td>Robert Brown</td>\n",
       "      <td>23</td>\n",
       "      <td>Computer Science</td>\n",
       "      <td>50000</td>\n",
       "    </tr>\n",
       "    <tr>\n",
       "      <th>14</th>\n",
       "      <td>Emily Davis</td>\n",
       "      <td>21</td>\n",
       "      <td>Artificial Intelligence</td>\n",
       "      <td>65000</td>\n",
       "    </tr>\n",
       "    <tr>\n",
       "      <th>15</th>\n",
       "      <td>William King</td>\n",
       "      <td>22</td>\n",
       "      <td>Data Science</td>\n",
       "      <td>60000</td>\n",
       "    </tr>\n",
       "    <tr>\n",
       "      <th>16</th>\n",
       "      <td>Olivia Scott</td>\n",
       "      <td>24</td>\n",
       "      <td>Web Development</td>\n",
       "      <td>59000</td>\n",
       "    </tr>\n",
       "    <tr>\n",
       "      <th>17</th>\n",
       "      <td>Sophia Clark</td>\n",
       "      <td>19</td>\n",
       "      <td>Cloud Computing</td>\n",
       "      <td>58000</td>\n",
       "    </tr>\n",
       "    <tr>\n",
       "      <th>18</th>\n",
       "      <td>James White</td>\n",
       "      <td>20</td>\n",
       "      <td>Blockchain Technology</td>\n",
       "      <td>59000</td>\n",
       "    </tr>\n",
       "  </tbody>\n",
       "</table>\n",
       "</div>"
      ],
      "text/plain": [
       "     Student Name  Age                   Course  Course Fee\n",
       "0        John Doe   20         Computer Science       50000\n",
       "1      Jane Smith   22             Data Science       60000\n",
       "2           Alice   21  Artificial Intelligence       65000\n",
       "3       Bob Brown   23           Cyber Security       59000\n",
       "4   Charlie White   21     Software Engineering       52000\n",
       "5     David Black   24         Machine Learning       70000\n",
       "6     Emma Wilson   22          Cloud Computing       58000\n",
       "7    Frank Thomas   21    Blockchain Technology       62000\n",
       "8     Grace Adams   23          Web Development       48000\n",
       "10   Henry Miller   21       Big Data Analytics       73000\n",
       "11    Michael Lee   25           Cyber Security       55000\n",
       "12    Sarah Green   20         Machine Learning       59000\n",
       "13   Robert Brown   23         Computer Science       50000\n",
       "14    Emily Davis   21  Artificial Intelligence       65000\n",
       "15   William King   22             Data Science       60000\n",
       "16   Olivia Scott   24          Web Development       59000\n",
       "17   Sophia Clark   19          Cloud Computing       58000\n",
       "18    James White   20    Blockchain Technology       59000"
      ]
     },
     "execution_count": 21,
     "metadata": {},
     "output_type": "execute_result"
    }
   ],
   "source": [
    "df"
   ]
  },
  {
   "cell_type": "code",
   "execution_count": 22,
   "id": "03cd7773-af71-4d1c-a999-4229fb98c71c",
   "metadata": {},
   "outputs": [
    {
     "data": {
      "text/plain": [
       "Student Name            John Doe\n",
       "Age                           20\n",
       "Course          Computer Science\n",
       "Course Fee                 50000\n",
       "Name: 0, dtype: object"
      ]
     },
     "execution_count": 22,
     "metadata": {},
     "output_type": "execute_result"
    }
   ],
   "source": [
    "#access a row using index value\n",
    "df.loc[0]"
   ]
  },
  {
   "cell_type": "code",
   "execution_count": 23,
   "id": "a09d1ed9-ddb2-4c1e-a865-6b063a8fc384",
   "metadata": {},
   "outputs": [
    {
     "data": {
      "text/plain": [
       "0     50000\n",
       "1     60000\n",
       "2     65000\n",
       "3     59000\n",
       "4     52000\n",
       "5     70000\n",
       "6     58000\n",
       "7     62000\n",
       "8     48000\n",
       "10    73000\n",
       "11    55000\n",
       "12    59000\n",
       "13    50000\n",
       "14    65000\n",
       "15    60000\n",
       "16    59000\n",
       "17    58000\n",
       "18    59000\n",
       "Name: Course Fee, dtype: int64"
      ]
     },
     "execution_count": 23,
     "metadata": {},
     "output_type": "execute_result"
    }
   ],
   "source": [
    "df.loc[:,\"Course Fee\"]  # loc is used to get row and column info using row_labels,column_labels"
   ]
  },
  {
   "cell_type": "code",
   "execution_count": 24,
   "id": "93b18364-4205-463b-954f-cc92dac76a35",
   "metadata": {},
   "outputs": [
    {
     "data": {
      "text/plain": [
       "np.int64(65000)"
      ]
     },
     "execution_count": 24,
     "metadata": {},
     "output_type": "execute_result"
    }
   ],
   "source": [
    "#iloc is used to get the row and column by index values\n",
    "df.iloc[2,3]"
   ]
  },
  {
   "cell_type": "code",
   "execution_count": 26,
   "id": "22c51903-6f64-498d-9216-c3e0de335933",
   "metadata": {},
   "outputs": [
    {
     "data": {
      "text/html": [
       "<div>\n",
       "<style scoped>\n",
       "    .dataframe tbody tr th:only-of-type {\n",
       "        vertical-align: middle;\n",
       "    }\n",
       "\n",
       "    .dataframe tbody tr th {\n",
       "        vertical-align: top;\n",
       "    }\n",
       "\n",
       "    .dataframe thead th {\n",
       "        text-align: right;\n",
       "    }\n",
       "</style>\n",
       "<table border=\"1\" class=\"dataframe\">\n",
       "  <thead>\n",
       "    <tr style=\"text-align: right;\">\n",
       "      <th></th>\n",
       "      <th>Student Name</th>\n",
       "      <th>Age</th>\n",
       "      <th>Course</th>\n",
       "      <th>Course Fee</th>\n",
       "    </tr>\n",
       "  </thead>\n",
       "  <tbody>\n",
       "    <tr>\n",
       "      <th>0</th>\n",
       "      <td>John Doe</td>\n",
       "      <td>20</td>\n",
       "      <td>Computer Science</td>\n",
       "      <td>50000</td>\n",
       "    </tr>\n",
       "    <tr>\n",
       "      <th>1</th>\n",
       "      <td>Jane Smith</td>\n",
       "      <td>22</td>\n",
       "      <td>Data Science</td>\n",
       "      <td>60000</td>\n",
       "    </tr>\n",
       "    <tr>\n",
       "      <th>2</th>\n",
       "      <td>Alice</td>\n",
       "      <td>21</td>\n",
       "      <td>Artificial Intelligence</td>\n",
       "      <td>65000</td>\n",
       "    </tr>\n",
       "    <tr>\n",
       "      <th>3</th>\n",
       "      <td>Bob Brown</td>\n",
       "      <td>23</td>\n",
       "      <td>Cyber Security</td>\n",
       "      <td>59000</td>\n",
       "    </tr>\n",
       "    <tr>\n",
       "      <th>4</th>\n",
       "      <td>Charlie White</td>\n",
       "      <td>21</td>\n",
       "      <td>Software Engineering</td>\n",
       "      <td>52000</td>\n",
       "    </tr>\n",
       "    <tr>\n",
       "      <th>5</th>\n",
       "      <td>David Black</td>\n",
       "      <td>24</td>\n",
       "      <td>Machine Learning</td>\n",
       "      <td>70000</td>\n",
       "    </tr>\n",
       "    <tr>\n",
       "      <th>6</th>\n",
       "      <td>Emma Wilson</td>\n",
       "      <td>22</td>\n",
       "      <td>Cloud Computing</td>\n",
       "      <td>58000</td>\n",
       "    </tr>\n",
       "    <tr>\n",
       "      <th>7</th>\n",
       "      <td>Frank Thomas</td>\n",
       "      <td>21</td>\n",
       "      <td>Blockchain Technology</td>\n",
       "      <td>62000</td>\n",
       "    </tr>\n",
       "    <tr>\n",
       "      <th>8</th>\n",
       "      <td>Grace Adams</td>\n",
       "      <td>23</td>\n",
       "      <td>Web Development</td>\n",
       "      <td>48000</td>\n",
       "    </tr>\n",
       "    <tr>\n",
       "      <th>10</th>\n",
       "      <td>Henry Miller</td>\n",
       "      <td>21</td>\n",
       "      <td>Big Data Analytics</td>\n",
       "      <td>73000</td>\n",
       "    </tr>\n",
       "    <tr>\n",
       "      <th>11</th>\n",
       "      <td>Michael Lee</td>\n",
       "      <td>25</td>\n",
       "      <td>Cyber Security</td>\n",
       "      <td>55000</td>\n",
       "    </tr>\n",
       "    <tr>\n",
       "      <th>12</th>\n",
       "      <td>Sarah Green</td>\n",
       "      <td>20</td>\n",
       "      <td>Machine Learning</td>\n",
       "      <td>59000</td>\n",
       "    </tr>\n",
       "    <tr>\n",
       "      <th>13</th>\n",
       "      <td>Robert Brown</td>\n",
       "      <td>23</td>\n",
       "      <td>Computer Science</td>\n",
       "      <td>50000</td>\n",
       "    </tr>\n",
       "    <tr>\n",
       "      <th>14</th>\n",
       "      <td>Emily Davis</td>\n",
       "      <td>21</td>\n",
       "      <td>Artificial Intelligence</td>\n",
       "      <td>65000</td>\n",
       "    </tr>\n",
       "    <tr>\n",
       "      <th>15</th>\n",
       "      <td>William King</td>\n",
       "      <td>22</td>\n",
       "      <td>Data Science</td>\n",
       "      <td>60000</td>\n",
       "    </tr>\n",
       "    <tr>\n",
       "      <th>16</th>\n",
       "      <td>Olivia Scott</td>\n",
       "      <td>24</td>\n",
       "      <td>Web Development</td>\n",
       "      <td>59000</td>\n",
       "    </tr>\n",
       "    <tr>\n",
       "      <th>17</th>\n",
       "      <td>Sophia Clark</td>\n",
       "      <td>19</td>\n",
       "      <td>Cloud Computing</td>\n",
       "      <td>58000</td>\n",
       "    </tr>\n",
       "    <tr>\n",
       "      <th>18</th>\n",
       "      <td>James White</td>\n",
       "      <td>20</td>\n",
       "      <td>Blockchain Technology</td>\n",
       "      <td>59000</td>\n",
       "    </tr>\n",
       "  </tbody>\n",
       "</table>\n",
       "</div>"
      ],
      "text/plain": [
       "     Student Name  Age                   Course  Course Fee\n",
       "0        John Doe   20         Computer Science       50000\n",
       "1      Jane Smith   22             Data Science       60000\n",
       "2           Alice   21  Artificial Intelligence       65000\n",
       "3       Bob Brown   23           Cyber Security       59000\n",
       "4   Charlie White   21     Software Engineering       52000\n",
       "5     David Black   24         Machine Learning       70000\n",
       "6     Emma Wilson   22          Cloud Computing       58000\n",
       "7    Frank Thomas   21    Blockchain Technology       62000\n",
       "8     Grace Adams   23          Web Development       48000\n",
       "10   Henry Miller   21       Big Data Analytics       73000\n",
       "11    Michael Lee   25           Cyber Security       55000\n",
       "12    Sarah Green   20         Machine Learning       59000\n",
       "13   Robert Brown   23         Computer Science       50000\n",
       "14    Emily Davis   21  Artificial Intelligence       65000\n",
       "15   William King   22             Data Science       60000\n",
       "16   Olivia Scott   24          Web Development       59000\n",
       "17   Sophia Clark   19          Cloud Computing       58000\n",
       "18    James White   20    Blockchain Technology       59000"
      ]
     },
     "execution_count": 26,
     "metadata": {},
     "output_type": "execute_result"
    }
   ],
   "source": [
    "#Data is cleaned \n",
    "df"
   ]
  },
  {
   "cell_type": "code",
   "execution_count": null,
   "id": "e3de11f0-0fd5-42de-99fb-542474e3a065",
   "metadata": {},
   "outputs": [],
   "source": []
  },
  {
   "cell_type": "code",
   "execution_count": null,
   "id": "7ecbb97b-4e0f-4874-a62e-3ac1dcc5e6bc",
   "metadata": {},
   "outputs": [],
   "source": []
  }
 ],
 "metadata": {
  "kernelspec": {
   "display_name": "Python 3 (ipykernel)",
   "language": "python",
   "name": "python3"
  },
  "language_info": {
   "codemirror_mode": {
    "name": "ipython",
    "version": 3
   },
   "file_extension": ".py",
   "mimetype": "text/x-python",
   "name": "python",
   "nbconvert_exporter": "python",
   "pygments_lexer": "ipython3",
   "version": "3.13.2"
  }
 },
 "nbformat": 4,
 "nbformat_minor": 5
}
